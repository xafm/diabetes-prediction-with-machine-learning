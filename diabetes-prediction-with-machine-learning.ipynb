{
 "cells": [
  {
   "cell_type": "markdown",
   "metadata": {
    "papermill": {
     "duration": 0.050337,
     "end_time": "2020-11-30T03:45:53.850288",
     "exception": false,
     "start_time": "2020-11-30T03:45:53.799951",
     "status": "completed"
    },
    "tags": []
   },
   "source": [
    "#### Import Libraries"
   ]
  },
  {
   "cell_type": "code",
   "execution_count": 145,
   "metadata": {
    "execution": {
     "iopub.execute_input": "2020-11-30T03:45:53.961346Z",
     "iopub.status.busy": "2020-11-30T03:45:53.960430Z",
     "iopub.status.idle": "2020-11-30T03:45:55.789143Z",
     "shell.execute_reply": "2020-11-30T03:45:55.789763Z"
    },
    "papermill": {
     "duration": 1.889318,
     "end_time": "2020-11-30T03:45:55.790113",
     "exception": false,
     "start_time": "2020-11-30T03:45:53.900795",
     "status": "completed"
    },
    "tags": []
   },
   "outputs": [],
   "source": [
    "import warnings\n",
    "import matplotlib.pyplot as plt\n",
    "import pandas as pd\n",
    "import seaborn as sns\n",
    "import numpy as np\n",
    "from sklearn.ensemble import RandomForestClassifier\n",
    "from sklearn.metrics import accuracy_score\n",
    "from sklearn.model_selection import train_test_split"
   ]
  },
  {
   "cell_type": "markdown",
   "metadata": {},
   "source": [
    "#### Settings"
   ]
  },
  {
   "cell_type": "code",
   "execution_count": 146,
   "metadata": {
    "execution": {
     "iopub.execute_input": "2020-11-30T03:45:56.013650Z",
     "iopub.status.busy": "2020-11-30T03:45:56.012766Z",
     "iopub.status.idle": "2020-11-30T03:45:56.017592Z",
     "shell.execute_reply": "2020-11-30T03:45:56.016777Z"
    },
    "papermill": {
     "duration": 0.067646,
     "end_time": "2020-11-30T03:45:56.017726",
     "exception": false,
     "start_time": "2020-11-30T03:45:55.950080",
     "status": "completed"
    },
    "tags": []
   },
   "outputs": [],
   "source": [
    "pd.pandas.set_option('display.max_columns', None)\n",
    "pd.pandas.set_option('display.max_rows', 20)\n",
    "pd.set_option('display.float_format', lambda x: '%.3f' % x)"
   ]
  },
  {
   "cell_type": "markdown",
   "metadata": {
    "papermill": {
     "duration": 0.051706,
     "end_time": "2020-11-30T03:45:56.125992",
     "exception": false,
     "start_time": "2020-11-30T03:45:56.074286",
     "status": "completed"
    },
    "tags": []
   },
   "source": [
    "#### Read Data"
   ]
  },
  {
   "cell_type": "code",
   "execution_count": 147,
   "metadata": {
    "execution": {
     "iopub.execute_input": "2020-11-30T03:45:56.244909Z",
     "iopub.status.busy": "2020-11-30T03:45:56.243945Z",
     "iopub.status.idle": "2020-11-30T03:45:56.256428Z",
     "shell.execute_reply": "2020-11-30T03:45:56.257049Z"
    },
    "papermill": {
     "duration": 0.079376,
     "end_time": "2020-11-30T03:45:56.257231",
     "exception": false,
     "start_time": "2020-11-30T03:45:56.177855",
     "status": "completed"
    },
    "tags": []
   },
   "outputs": [],
   "source": [
    "df = pd.read_csv('diabetes.csv')"
   ]
  },
  {
   "cell_type": "markdown",
   "metadata": {
    "papermill": {
     "duration": 0.051832,
     "end_time": "2020-11-30T03:45:56.362896",
     "exception": false,
     "start_time": "2020-11-30T03:45:56.311064",
     "status": "completed"
    },
    "tags": []
   },
   "source": [
    "## 1. Data Overview"
   ]
  },
  {
   "cell_type": "code",
   "execution_count": 148,
   "metadata": {
    "execution": {
     "iopub.execute_input": "2020-11-30T03:45:56.490858Z",
     "iopub.status.busy": "2020-11-30T03:45:56.487905Z",
     "iopub.status.idle": "2020-11-30T03:45:56.503562Z",
     "shell.execute_reply": "2020-11-30T03:45:56.502834Z"
    },
    "papermill": {
     "duration": 0.08798,
     "end_time": "2020-11-30T03:45:56.503700",
     "exception": false,
     "start_time": "2020-11-30T03:45:56.415720",
     "status": "completed"
    },
    "tags": []
   },
   "outputs": [
    {
     "data": {
      "text/html": [
       "<div>\n",
       "<style scoped>\n",
       "    .dataframe tbody tr th:only-of-type {\n",
       "        vertical-align: middle;\n",
       "    }\n",
       "\n",
       "    .dataframe tbody tr th {\n",
       "        vertical-align: top;\n",
       "    }\n",
       "\n",
       "    .dataframe thead th {\n",
       "        text-align: right;\n",
       "    }\n",
       "</style>\n",
       "<table border=\"1\" class=\"dataframe\">\n",
       "  <thead>\n",
       "    <tr style=\"text-align: right;\">\n",
       "      <th></th>\n",
       "      <th>Pregnancies</th>\n",
       "      <th>Glucose</th>\n",
       "      <th>BloodPressure</th>\n",
       "      <th>SkinThickness</th>\n",
       "      <th>Insulin</th>\n",
       "      <th>BMI</th>\n",
       "      <th>DiabetesPedigreeFunction</th>\n",
       "      <th>Age</th>\n",
       "      <th>Outcome</th>\n",
       "    </tr>\n",
       "  </thead>\n",
       "  <tbody>\n",
       "    <tr>\n",
       "      <th>0</th>\n",
       "      <td>6</td>\n",
       "      <td>148</td>\n",
       "      <td>72</td>\n",
       "      <td>35</td>\n",
       "      <td>0</td>\n",
       "      <td>33.600</td>\n",
       "      <td>0.627</td>\n",
       "      <td>50</td>\n",
       "      <td>1</td>\n",
       "    </tr>\n",
       "    <tr>\n",
       "      <th>1</th>\n",
       "      <td>1</td>\n",
       "      <td>85</td>\n",
       "      <td>66</td>\n",
       "      <td>29</td>\n",
       "      <td>0</td>\n",
       "      <td>26.600</td>\n",
       "      <td>0.351</td>\n",
       "      <td>31</td>\n",
       "      <td>0</td>\n",
       "    </tr>\n",
       "    <tr>\n",
       "      <th>2</th>\n",
       "      <td>8</td>\n",
       "      <td>183</td>\n",
       "      <td>64</td>\n",
       "      <td>0</td>\n",
       "      <td>0</td>\n",
       "      <td>23.300</td>\n",
       "      <td>0.672</td>\n",
       "      <td>32</td>\n",
       "      <td>1</td>\n",
       "    </tr>\n",
       "    <tr>\n",
       "      <th>3</th>\n",
       "      <td>1</td>\n",
       "      <td>89</td>\n",
       "      <td>66</td>\n",
       "      <td>23</td>\n",
       "      <td>94</td>\n",
       "      <td>28.100</td>\n",
       "      <td>0.167</td>\n",
       "      <td>21</td>\n",
       "      <td>0</td>\n",
       "    </tr>\n",
       "    <tr>\n",
       "      <th>4</th>\n",
       "      <td>0</td>\n",
       "      <td>137</td>\n",
       "      <td>40</td>\n",
       "      <td>35</td>\n",
       "      <td>168</td>\n",
       "      <td>43.100</td>\n",
       "      <td>2.288</td>\n",
       "      <td>33</td>\n",
       "      <td>1</td>\n",
       "    </tr>\n",
       "  </tbody>\n",
       "</table>\n",
       "</div>"
      ],
      "text/plain": [
       "   Pregnancies  Glucose  BloodPressure  SkinThickness  Insulin    BMI  \\\n",
       "0            6      148             72             35        0 33.600   \n",
       "1            1       85             66             29        0 26.600   \n",
       "2            8      183             64              0        0 23.300   \n",
       "3            1       89             66             23       94 28.100   \n",
       "4            0      137             40             35      168 43.100   \n",
       "\n",
       "   DiabetesPedigreeFunction  Age  Outcome  \n",
       "0                     0.627   50        1  \n",
       "1                     0.351   31        0  \n",
       "2                     0.672   32        1  \n",
       "3                     0.167   21        0  \n",
       "4                     2.288   33        1  "
      ]
     },
     "execution_count": 148,
     "metadata": {},
     "output_type": "execute_result"
    }
   ],
   "source": [
    "df.head()"
   ]
  },
  {
   "cell_type": "code",
   "execution_count": 149,
   "metadata": {
    "execution": {
     "iopub.execute_input": "2020-11-30T03:45:56.637771Z",
     "iopub.status.busy": "2020-11-30T03:45:56.629322Z",
     "iopub.status.idle": "2020-11-30T03:45:56.645852Z",
     "shell.execute_reply": "2020-11-30T03:45:56.644776Z"
    },
    "papermill": {
     "duration": 0.089061,
     "end_time": "2020-11-30T03:45:56.646073",
     "exception": false,
     "start_time": "2020-11-30T03:45:56.557012",
     "status": "completed"
    },
    "tags": []
   },
   "outputs": [
    {
     "name": "stdout",
     "output_type": "stream",
     "text": [
      "<class 'pandas.core.frame.DataFrame'>\n",
      "RangeIndex: 768 entries, 0 to 767\n",
      "Data columns (total 9 columns):\n",
      " #   Column                    Non-Null Count  Dtype  \n",
      "---  ------                    --------------  -----  \n",
      " 0   Pregnancies               768 non-null    int64  \n",
      " 1   Glucose                   768 non-null    int64  \n",
      " 2   BloodPressure             768 non-null    int64  \n",
      " 3   SkinThickness             768 non-null    int64  \n",
      " 4   Insulin                   768 non-null    int64  \n",
      " 5   BMI                       768 non-null    float64\n",
      " 6   DiabetesPedigreeFunction  768 non-null    float64\n",
      " 7   Age                       768 non-null    int64  \n",
      " 8   Outcome                   768 non-null    int64  \n",
      "dtypes: float64(2), int64(7)\n",
      "memory usage: 54.1 KB\n"
     ]
    }
   ],
   "source": [
    "df.info()"
   ]
  },
  {
   "cell_type": "code",
   "execution_count": 150,
   "metadata": {
    "execution": {
     "iopub.execute_input": "2020-11-30T03:45:56.891147Z",
     "iopub.status.busy": "2020-11-30T03:45:56.890314Z",
     "iopub.status.idle": "2020-11-30T03:45:56.894408Z",
     "shell.execute_reply": "2020-11-30T03:45:56.893599Z"
    },
    "papermill": {
     "duration": 0.064028,
     "end_time": "2020-11-30T03:45:56.894571",
     "exception": false,
     "start_time": "2020-11-30T03:45:56.830543",
     "status": "completed"
    },
    "tags": []
   },
   "outputs": [],
   "source": [
    "# Numerical variables selected (Target Variable excluded)\n",
    "cols = [col for col in df.columns if df[col].dtypes != 'O' and col not in \"Outcome\"]"
   ]
  },
  {
   "cell_type": "code",
   "execution_count": 151,
   "metadata": {
    "execution": {
     "iopub.execute_input": "2020-11-30T03:45:57.019910Z",
     "iopub.status.busy": "2020-11-30T03:45:57.018756Z",
     "iopub.status.idle": "2020-11-30T03:45:57.031909Z",
     "shell.execute_reply": "2020-11-30T03:45:57.031122Z"
    },
    "papermill": {
     "duration": 0.079682,
     "end_time": "2020-11-30T03:45:57.032068",
     "exception": false,
     "start_time": "2020-11-30T03:45:56.952386",
     "status": "completed"
    },
    "tags": []
   },
   "outputs": [
    {
     "data": {
      "text/plain": [
       "Pregnancies                  17\n",
       "Glucose                     136\n",
       "BloodPressure                47\n",
       "SkinThickness                51\n",
       "Insulin                     186\n",
       "BMI                         248\n",
       "DiabetesPedigreeFunction    517\n",
       "Age                          52\n",
       "dtype: int64"
      ]
     },
     "execution_count": 151,
     "metadata": {},
     "output_type": "execute_result"
    }
   ],
   "source": [
    "df[cols].nunique()"
   ]
  },
  {
   "cell_type": "code",
   "execution_count": 152,
   "metadata": {
    "execution": {
     "iopub.execute_input": "2020-11-30T03:45:57.270873Z",
     "iopub.status.busy": "2020-11-30T03:45:57.270001Z",
     "iopub.status.idle": "2020-11-30T03:45:59.066390Z",
     "shell.execute_reply": "2020-11-30T03:45:59.065509Z"
    },
    "papermill": {
     "duration": 1.862561,
     "end_time": "2020-11-30T03:45:59.066555",
     "exception": false,
     "start_time": "2020-11-30T03:45:57.203994",
     "status": "completed"
    },
    "tags": []
   },
   "outputs": [
    {
     "data": {
      "image/png": "[encoded data removed]",
      "text/plain": [
       "<Figure size 432x288 with 1 Axes>"
      ]
     },
     "metadata": {
      "needs_background": "light"
     },
     "output_type": "display_data"
    },
    {
     "data": {
      "image/png": "[encoded data removed]",
      "text/plain": [
       "<Figure size 432x288 with 1 Axes>"
      ]
     },
     "metadata": {
      "needs_background": "light"
     },
     "output_type": "display_data"
    },
    {
     "data": {
      "image/png": "[encoded data removed]",
      "text/plain": [
       "<Figure size 432x288 with 1 Axes>"
      ]
     },
     "metadata": {
      "needs_background": "light"
     },
     "output_type": "display_data"
    },
    {
     "data": {
      "image/png": "[encoded data removed]",
      "text/plain": [
       "<Figure size 432x288 with 1 Axes>"
      ]
     },
     "metadata": {
      "needs_background": "light"
     },
     "output_type": "display_data"
    },
    {
     "data": {
      "image/png": "[encoded data removed]",
      "text/plain": [
       "<Figure size 432x288 with 1 Axes>"
      ]
     },
     "metadata": {
      "needs_background": "light"
     },
     "output_type": "display_data"
    },
    {
     "data": {
      "image/png": "[encoded data removed]",
      "text/plain": [
       "<Figure size 432x288 with 1 Axes>"
      ]
     },
     "metadata": {
      "needs_background": "light"
     },
     "output_type": "display_data"
    },
    {
     "data": {
      "image/png": "[encoded data removed]",
      "text/plain": [
       "<Figure size 432x288 with 1 Axes>"
      ]
     },
     "metadata": {
      "needs_background": "light"
     },
     "output_type": "display_data"
    },
    {
     "data": {
      "image/png": "[encoded data removed]",
      "text/plain": [
       "<Figure size 432x288 with 1 Axes>"
      ]
     },
     "metadata": {
      "needs_background": "light"
     },
     "output_type": "display_data"
    }
   ],
   "source": [
    "# Plotting each variables histograms\n",
    "def hist_for_nums(data, numeric_cols):\n",
    "    for col in numeric_cols:\n",
    "        data[col].hist()\n",
    "        plt.xlabel(col)\n",
    "        plt.title(col)\n",
    "        plt.show()\n",
    "\n",
    "hist_for_nums(df, cols)"
   ]
  },
  {
   "cell_type": "code",
   "execution_count": 153,
   "metadata": {
    "execution": {
     "iopub.execute_input": "2020-11-30T03:45:59.484208Z",
     "iopub.status.busy": "2020-11-30T03:45:59.483313Z",
     "iopub.status.idle": "2020-11-30T03:46:00.614526Z",
     "shell.execute_reply": "2020-11-30T03:46:00.615100Z"
    },
    "papermill": {
     "duration": 1.222974,
     "end_time": "2020-11-30T03:46:00.615277",
     "exception": false,
     "start_time": "2020-11-30T03:45:59.392303",
     "status": "completed"
    },
    "tags": []
   },
   "outputs": [
    {
     "data": {
      "image/png": "[encoded data removed]",
      "text/plain": [
       "<Figure size 432x288 with 1 Axes>"
      ]
     },
     "metadata": {
      "needs_background": "light"
     },
     "output_type": "display_data"
    },
    {
     "data": {
      "image/png": "[encoded data removed]",
      "text/plain": [
       "<Figure size 432x288 with 1 Axes>"
      ]
     },
     "metadata": {
      "needs_background": "light"
     },
     "output_type": "display_data"
    },
    {
     "data": {
      "image/png": "[encoded data removed]",
      "text/plain": [
       "<Figure size 432x288 with 1 Axes>"
      ]
     },
     "metadata": {
      "needs_background": "light"
     },
     "output_type": "display_data"
    },
    {
     "data": {
      "image/png": "[encoded data removed]",
      "text/plain": [
       "<Figure size 432x288 with 1 Axes>"
      ]
     },
     "metadata": {
      "needs_background": "light"
     },
     "output_type": "display_data"
    },
    {
     "data": {
      "image/png": "[encoded data removed]",
      "text/plain": [
       "<Figure size 432x288 with 1 Axes>"
      ]
     },
     "metadata": {
      "needs_background": "light"
     },
     "output_type": "display_data"
    },
    {
     "data": {
      "image/png": "[encoded data removed]",
      "text/plain": [
       "<Figure size 432x288 with 1 Axes>"
      ]
     },
     "metadata": {
      "needs_background": "light"
     },
     "output_type": "display_data"
    },
    {
     "data": {
      "image/png": "[encoded data removed]",
      "text/plain": [
       "<Figure size 432x288 with 1 Axes>"
      ]
     },
     "metadata": {
      "needs_background": "light"
     },
     "output_type": "display_data"
    },
    {
     "data": {
      "image/png": "[encoded data removed]",
      "text/plain": [
       "<Figure size 432x288 with 1 Axes>"
      ]
     },
     "metadata": {
      "needs_background": "light"
     },
     "output_type": "display_data"
    }
   ],
   "source": [
    "def boxplot_for_nums(data, numeric_cols):\n",
    "    for col in numeric_cols:\n",
    "        sns.boxplot(data[col])\n",
    "        plt.xlabel(col)\n",
    "        plt.title(col)\n",
    "        plt.show()\n",
    "\n",
    "boxplot_for_nums(df, cols)\n"
   ]
  },
  {
   "cell_type": "code",
   "execution_count": 154,
   "metadata": {
    "execution": {
     "iopub.execute_input": "2020-11-30T03:46:00.768184Z",
     "iopub.status.busy": "2020-11-30T03:46:00.767343Z",
     "iopub.status.idle": "2020-11-30T03:46:00.803085Z",
     "shell.execute_reply": "2020-11-30T03:46:00.802303Z"
    },
    "papermill": {
     "duration": 0.114455,
     "end_time": "2020-11-30T03:46:00.803221",
     "exception": false,
     "start_time": "2020-11-30T03:46:00.688766",
     "status": "completed"
    },
    "tags": []
   },
   "outputs": [
    {
     "data": {
      "text/html": [
       "<div>\n",
       "<style scoped>\n",
       "    .dataframe tbody tr th:only-of-type {\n",
       "        vertical-align: middle;\n",
       "    }\n",
       "\n",
       "    .dataframe tbody tr th {\n",
       "        vertical-align: top;\n",
       "    }\n",
       "\n",
       "    .dataframe thead th {\n",
       "        text-align: right;\n",
       "    }\n",
       "</style>\n",
       "<table border=\"1\" class=\"dataframe\">\n",
       "  <thead>\n",
       "    <tr style=\"text-align: right;\">\n",
       "      <th></th>\n",
       "      <th>count</th>\n",
       "      <th>mean</th>\n",
       "      <th>std</th>\n",
       "      <th>min</th>\n",
       "      <th>25%</th>\n",
       "      <th>50%</th>\n",
       "      <th>75%</th>\n",
       "      <th>max</th>\n",
       "    </tr>\n",
       "  </thead>\n",
       "  <tbody>\n",
       "    <tr>\n",
       "      <th>Pregnancies</th>\n",
       "      <td>768.000</td>\n",
       "      <td>3.845</td>\n",
       "      <td>3.370</td>\n",
       "      <td>0.000</td>\n",
       "      <td>1.000</td>\n",
       "      <td>3.000</td>\n",
       "      <td>6.000</td>\n",
       "      <td>17.000</td>\n",
       "    </tr>\n",
       "    <tr>\n",
       "      <th>Glucose</th>\n",
       "      <td>768.000</td>\n",
       "      <td>120.895</td>\n",
       "      <td>31.973</td>\n",
       "      <td>0.000</td>\n",
       "      <td>99.000</td>\n",
       "      <td>117.000</td>\n",
       "      <td>140.250</td>\n",
       "      <td>199.000</td>\n",
       "    </tr>\n",
       "    <tr>\n",
       "      <th>BloodPressure</th>\n",
       "      <td>768.000</td>\n",
       "      <td>69.105</td>\n",
       "      <td>19.356</td>\n",
       "      <td>0.000</td>\n",
       "      <td>62.000</td>\n",
       "      <td>72.000</td>\n",
       "      <td>80.000</td>\n",
       "      <td>122.000</td>\n",
       "    </tr>\n",
       "    <tr>\n",
       "      <th>SkinThickness</th>\n",
       "      <td>768.000</td>\n",
       "      <td>20.536</td>\n",
       "      <td>15.952</td>\n",
       "      <td>0.000</td>\n",
       "      <td>0.000</td>\n",
       "      <td>23.000</td>\n",
       "      <td>32.000</td>\n",
       "      <td>99.000</td>\n",
       "    </tr>\n",
       "    <tr>\n",
       "      <th>Insulin</th>\n",
       "      <td>768.000</td>\n",
       "      <td>79.799</td>\n",
       "      <td>115.244</td>\n",
       "      <td>0.000</td>\n",
       "      <td>0.000</td>\n",
       "      <td>30.500</td>\n",
       "      <td>127.250</td>\n",
       "      <td>846.000</td>\n",
       "    </tr>\n",
       "    <tr>\n",
       "      <th>BMI</th>\n",
       "      <td>768.000</td>\n",
       "      <td>31.993</td>\n",
       "      <td>7.884</td>\n",
       "      <td>0.000</td>\n",
       "      <td>27.300</td>\n",
       "      <td>32.000</td>\n",
       "      <td>36.600</td>\n",
       "      <td>67.100</td>\n",
       "    </tr>\n",
       "    <tr>\n",
       "      <th>DiabetesPedigreeFunction</th>\n",
       "      <td>768.000</td>\n",
       "      <td>0.472</td>\n",
       "      <td>0.331</td>\n",
       "      <td>0.078</td>\n",
       "      <td>0.244</td>\n",
       "      <td>0.372</td>\n",
       "      <td>0.626</td>\n",
       "      <td>2.420</td>\n",
       "    </tr>\n",
       "    <tr>\n",
       "      <th>Age</th>\n",
       "      <td>768.000</td>\n",
       "      <td>33.241</td>\n",
       "      <td>11.760</td>\n",
       "      <td>21.000</td>\n",
       "      <td>24.000</td>\n",
       "      <td>29.000</td>\n",
       "      <td>41.000</td>\n",
       "      <td>81.000</td>\n",
       "    </tr>\n",
       "    <tr>\n",
       "      <th>Outcome</th>\n",
       "      <td>768.000</td>\n",
       "      <td>0.349</td>\n",
       "      <td>0.477</td>\n",
       "      <td>0.000</td>\n",
       "      <td>0.000</td>\n",
       "      <td>0.000</td>\n",
       "      <td>1.000</td>\n",
       "      <td>1.000</td>\n",
       "    </tr>\n",
       "  </tbody>\n",
       "</table>\n",
       "</div>"
      ],
      "text/plain": [
       "                           count    mean     std    min    25%     50%  \\\n",
       "Pregnancies              768.000   3.845   3.370  0.000  1.000   3.000   \n",
       "Glucose                  768.000 120.895  31.973  0.000 99.000 117.000   \n",
       "BloodPressure            768.000  69.105  19.356  0.000 62.000  72.000   \n",
       "SkinThickness            768.000  20.536  15.952  0.000  0.000  23.000   \n",
       "Insulin                  768.000  79.799 115.244  0.000  0.000  30.500   \n",
       "BMI                      768.000  31.993   7.884  0.000 27.300  32.000   \n",
       "DiabetesPedigreeFunction 768.000   0.472   0.331  0.078  0.244   0.372   \n",
       "Age                      768.000  33.241  11.760 21.000 24.000  29.000   \n",
       "Outcome                  768.000   0.349   0.477  0.000  0.000   0.000   \n",
       "\n",
       "                             75%     max  \n",
       "Pregnancies                6.000  17.000  \n",
       "Glucose                  140.250 199.000  \n",
       "BloodPressure             80.000 122.000  \n",
       "SkinThickness             32.000  99.000  \n",
       "Insulin                  127.250 846.000  \n",
       "BMI                       36.600  67.100  \n",
       "DiabetesPedigreeFunction   0.626   2.420  \n",
       "Age                       41.000  81.000  \n",
       "Outcome                    1.000   1.000  "
      ]
     },
     "execution_count": 154,
     "metadata": {},
     "output_type": "execute_result"
    }
   ],
   "source": [
    "df.describe().T"
   ]
  },
  {
   "cell_type": "markdown",
   "metadata": {
    "papermill": {
     "duration": 0.068631,
     "end_time": "2020-11-30T03:46:00.943966",
     "exception": false,
     "start_time": "2020-11-30T03:46:00.875335",
     "status": "completed"
    },
    "tags": []
   },
   "source": [
    "## 2. Data Processing"
   ]
  },
  {
   "cell_type": "markdown",
   "metadata": {
    "papermill": {
     "duration": 0.071324,
     "end_time": "2020-11-30T03:46:01.089575",
     "exception": false,
     "start_time": "2020-11-30T03:46:01.018251",
     "status": "completed"
    },
    "tags": []
   },
   "source": [
    " #### Missing Value Treatment\n"
   ]
  },
  {
   "cell_type": "code",
   "execution_count": 155,
   "metadata": {
    "execution": {
     "iopub.execute_input": "2020-11-30T03:46:01.242700Z",
     "iopub.status.busy": "2020-11-30T03:46:01.241781Z",
     "iopub.status.idle": "2020-11-30T03:46:01.246796Z",
     "shell.execute_reply": "2020-11-30T03:46:01.246145Z"
    },
    "papermill": {
     "duration": 0.085844,
     "end_time": "2020-11-30T03:46:01.246933",
     "exception": false,
     "start_time": "2020-11-30T03:46:01.161089",
     "status": "completed"
    },
    "tags": []
   },
   "outputs": [
    {
     "data": {
      "text/plain": [
       "Pregnancies                 0\n",
       "Glucose                     0\n",
       "BloodPressure               0\n",
       "SkinThickness               0\n",
       "Insulin                     0\n",
       "BMI                         0\n",
       "DiabetesPedigreeFunction    0\n",
       "Age                         0\n",
       "Outcome                     0\n",
       "dtype: int64"
      ]
     },
     "execution_count": 155,
     "metadata": {},
     "output_type": "execute_result"
    }
   ],
   "source": [
    "df.isnull().sum()"
   ]
  },
  {
   "cell_type": "code",
   "execution_count": 156,
   "metadata": {
    "execution": {
     "iopub.execute_input": "2020-11-30T03:46:01.395409Z",
     "iopub.status.busy": "2020-11-30T03:46:01.394447Z",
     "iopub.status.idle": "2020-11-30T03:46:01.694105Z",
     "shell.execute_reply": "2020-11-30T03:46:01.694710Z"
    },
    "papermill": {
     "duration": 0.376421,
     "end_time": "2020-11-30T03:46:01.694871",
     "exception": false,
     "start_time": "2020-11-30T03:46:01.318450",
     "status": "completed"
    },
    "scrolled": false,
    "tags": []
   },
   "outputs": [
    {
     "data": {
      "text/html": [
       "<div>\n",
       "<style scoped>\n",
       "    .dataframe tbody tr th:only-of-type {\n",
       "        vertical-align: middle;\n",
       "    }\n",
       "\n",
       "    .dataframe tbody tr th {\n",
       "        vertical-align: top;\n",
       "    }\n",
       "\n",
       "    .dataframe thead th {\n",
       "        text-align: right;\n",
       "    }\n",
       "</style>\n",
       "<table border=\"1\" class=\"dataframe\">\n",
       "  <thead>\n",
       "    <tr style=\"text-align: right;\">\n",
       "      <th></th>\n",
       "      <th>Pregnancies</th>\n",
       "      <th>Glucose</th>\n",
       "      <th>BloodPressure</th>\n",
       "      <th>SkinThickness</th>\n",
       "      <th>Insulin</th>\n",
       "      <th>BMI</th>\n",
       "      <th>DiabetesPedigreeFunction</th>\n",
       "      <th>Age</th>\n",
       "      <th>Outcome</th>\n",
       "    </tr>\n",
       "  </thead>\n",
       "  <tbody>\n",
       "    <tr>\n",
       "      <th>0</th>\n",
       "      <td>nan</td>\n",
       "      <td>nan</td>\n",
       "      <td>nan</td>\n",
       "      <td>nan</td>\n",
       "      <td>0.000</td>\n",
       "      <td>nan</td>\n",
       "      <td>nan</td>\n",
       "      <td>nan</td>\n",
       "      <td>nan</td>\n",
       "    </tr>\n",
       "    <tr>\n",
       "      <th>1</th>\n",
       "      <td>nan</td>\n",
       "      <td>nan</td>\n",
       "      <td>nan</td>\n",
       "      <td>nan</td>\n",
       "      <td>0.000</td>\n",
       "      <td>nan</td>\n",
       "      <td>nan</td>\n",
       "      <td>nan</td>\n",
       "      <td>0.000</td>\n",
       "    </tr>\n",
       "    <tr>\n",
       "      <th>2</th>\n",
       "      <td>nan</td>\n",
       "      <td>nan</td>\n",
       "      <td>nan</td>\n",
       "      <td>0.000</td>\n",
       "      <td>0.000</td>\n",
       "      <td>nan</td>\n",
       "      <td>nan</td>\n",
       "      <td>nan</td>\n",
       "      <td>nan</td>\n",
       "    </tr>\n",
       "    <tr>\n",
       "      <th>3</th>\n",
       "      <td>nan</td>\n",
       "      <td>nan</td>\n",
       "      <td>nan</td>\n",
       "      <td>nan</td>\n",
       "      <td>nan</td>\n",
       "      <td>nan</td>\n",
       "      <td>nan</td>\n",
       "      <td>nan</td>\n",
       "      <td>0.000</td>\n",
       "    </tr>\n",
       "    <tr>\n",
       "      <th>4</th>\n",
       "      <td>0.000</td>\n",
       "      <td>nan</td>\n",
       "      <td>nan</td>\n",
       "      <td>nan</td>\n",
       "      <td>nan</td>\n",
       "      <td>nan</td>\n",
       "      <td>nan</td>\n",
       "      <td>nan</td>\n",
       "      <td>nan</td>\n",
       "    </tr>\n",
       "    <tr>\n",
       "      <th>...</th>\n",
       "      <td>...</td>\n",
       "      <td>...</td>\n",
       "      <td>...</td>\n",
       "      <td>...</td>\n",
       "      <td>...</td>\n",
       "      <td>...</td>\n",
       "      <td>...</td>\n",
       "      <td>...</td>\n",
       "      <td>...</td>\n",
       "    </tr>\n",
       "    <tr>\n",
       "      <th>763</th>\n",
       "      <td>nan</td>\n",
       "      <td>nan</td>\n",
       "      <td>nan</td>\n",
       "      <td>nan</td>\n",
       "      <td>nan</td>\n",
       "      <td>nan</td>\n",
       "      <td>nan</td>\n",
       "      <td>nan</td>\n",
       "      <td>0.000</td>\n",
       "    </tr>\n",
       "    <tr>\n",
       "      <th>764</th>\n",
       "      <td>nan</td>\n",
       "      <td>nan</td>\n",
       "      <td>nan</td>\n",
       "      <td>nan</td>\n",
       "      <td>0.000</td>\n",
       "      <td>nan</td>\n",
       "      <td>nan</td>\n",
       "      <td>nan</td>\n",
       "      <td>0.000</td>\n",
       "    </tr>\n",
       "    <tr>\n",
       "      <th>765</th>\n",
       "      <td>nan</td>\n",
       "      <td>nan</td>\n",
       "      <td>nan</td>\n",
       "      <td>nan</td>\n",
       "      <td>nan</td>\n",
       "      <td>nan</td>\n",
       "      <td>nan</td>\n",
       "      <td>nan</td>\n",
       "      <td>0.000</td>\n",
       "    </tr>\n",
       "    <tr>\n",
       "      <th>766</th>\n",
       "      <td>nan</td>\n",
       "      <td>nan</td>\n",
       "      <td>nan</td>\n",
       "      <td>0.000</td>\n",
       "      <td>0.000</td>\n",
       "      <td>nan</td>\n",
       "      <td>nan</td>\n",
       "      <td>nan</td>\n",
       "      <td>nan</td>\n",
       "    </tr>\n",
       "    <tr>\n",
       "      <th>767</th>\n",
       "      <td>nan</td>\n",
       "      <td>nan</td>\n",
       "      <td>nan</td>\n",
       "      <td>nan</td>\n",
       "      <td>0.000</td>\n",
       "      <td>nan</td>\n",
       "      <td>nan</td>\n",
       "      <td>nan</td>\n",
       "      <td>0.000</td>\n",
       "    </tr>\n",
       "  </tbody>\n",
       "</table>\n",
       "<p>768 rows × 9 columns</p>\n",
       "</div>"
      ],
      "text/plain": [
       "     Pregnancies  Glucose  BloodPressure  SkinThickness  Insulin  BMI  \\\n",
       "0            nan      nan            nan            nan    0.000  nan   \n",
       "1            nan      nan            nan            nan    0.000  nan   \n",
       "2            nan      nan            nan          0.000    0.000  nan   \n",
       "3            nan      nan            nan            nan      nan  nan   \n",
       "4          0.000      nan            nan            nan      nan  nan   \n",
       "..           ...      ...            ...            ...      ...  ...   \n",
       "763          nan      nan            nan            nan      nan  nan   \n",
       "764          nan      nan            nan            nan    0.000  nan   \n",
       "765          nan      nan            nan            nan      nan  nan   \n",
       "766          nan      nan            nan          0.000    0.000  nan   \n",
       "767          nan      nan            nan            nan    0.000  nan   \n",
       "\n",
       "     DiabetesPedigreeFunction  Age  Outcome  \n",
       "0                         nan  nan      nan  \n",
       "1                         nan  nan    0.000  \n",
       "2                         nan  nan      nan  \n",
       "3                         nan  nan    0.000  \n",
       "4                         nan  nan      nan  \n",
       "..                        ...  ...      ...  \n",
       "763                       nan  nan    0.000  \n",
       "764                       nan  nan    0.000  \n",
       "765                       nan  nan    0.000  \n",
       "766                       nan  nan      nan  \n",
       "767                       nan  nan    0.000  \n",
       "\n",
       "[768 rows x 9 columns]"
      ]
     },
     "execution_count": 156,
     "metadata": {},
     "output_type": "execute_result"
    }
   ],
   "source": [
    "df[df == 0]"
   ]
  },
  {
   "cell_type": "code",
   "execution_count": 157,
   "metadata": {
    "execution": {
     "iopub.execute_input": "2020-11-30T03:46:02.051382Z",
     "iopub.status.busy": "2020-11-30T03:46:02.050544Z",
     "iopub.status.idle": "2020-11-30T03:46:02.058415Z",
     "shell.execute_reply": "2020-11-30T03:46:02.057603Z"
    },
    "papermill": {
     "duration": 0.105824,
     "end_time": "2020-11-30T03:46:02.058549",
     "exception": false,
     "start_time": "2020-11-30T03:46:01.952725",
     "status": "completed"
    },
    "tags": []
   },
   "outputs": [],
   "source": [
    "df_zeros = ['Age','BloodPressure','BMI','Glucose','Insulin','SkinThickness']\n",
    "\n",
    "df[df_zeros]= df[df_zeros].replace(0, np.NaN)"
   ]
  },
  {
   "cell_type": "code",
   "execution_count": 158,
   "metadata": {
    "execution": {
     "iopub.execute_input": "2020-11-30T03:46:02.241676Z",
     "iopub.status.busy": "2020-11-30T03:46:02.240627Z",
     "iopub.status.idle": "2020-11-30T03:46:02.245848Z",
     "shell.execute_reply": "2020-11-30T03:46:02.245188Z"
    },
    "papermill": {
     "duration": 0.101865,
     "end_time": "2020-11-30T03:46:02.245972",
     "exception": false,
     "start_time": "2020-11-30T03:46:02.144107",
     "status": "completed"
    },
    "tags": []
   },
   "outputs": [
    {
     "data": {
      "text/plain": [
       "Pregnancies                   0\n",
       "Glucose                       5\n",
       "BloodPressure                35\n",
       "SkinThickness               227\n",
       "Insulin                     374\n",
       "BMI                          11\n",
       "DiabetesPedigreeFunction      0\n",
       "Age                           0\n",
       "Outcome                       0\n",
       "dtype: int64"
      ]
     },
     "execution_count": 158,
     "metadata": {},
     "output_type": "execute_result"
    }
   ],
   "source": [
    "df.isnull().sum()"
   ]
  },
  {
   "cell_type": "markdown",
   "metadata": {
    "papermill": {
     "duration": 0.084702,
     "end_time": "2020-11-30T03:46:02.588857",
     "exception": false,
     "start_time": "2020-11-30T03:46:02.504155",
     "status": "completed"
    },
    "tags": []
   },
   "source": [
    "__Glucose__"
   ]
  },
  {
   "cell_type": "code",
   "execution_count": 159,
   "metadata": {
    "execution": {
     "iopub.execute_input": "2020-11-30T03:46:02.777666Z",
     "iopub.status.busy": "2020-11-30T03:46:02.776541Z",
     "iopub.status.idle": "2020-11-30T03:46:02.781736Z",
     "shell.execute_reply": "2020-11-30T03:46:02.780957Z"
    },
    "papermill": {
     "duration": 0.104679,
     "end_time": "2020-11-30T03:46:02.781864",
     "exception": false,
     "start_time": "2020-11-30T03:46:02.677185",
     "status": "completed"
    },
    "tags": []
   },
   "outputs": [
    {
     "data": {
      "text/plain": [
       "Outcome\n",
       "0   107.000\n",
       "1   140.000\n",
       "Name: Glucose, dtype: float64"
      ]
     },
     "execution_count": 159,
     "metadata": {},
     "output_type": "execute_result"
    }
   ],
   "source": [
    "df.groupby(\"Outcome\")[\"Glucose\"].median()"
   ]
  },
  {
   "cell_type": "code",
   "execution_count": 160,
   "metadata": {
    "execution": {
     "iopub.execute_input": "2020-11-30T03:46:02.973434Z",
     "iopub.status.busy": "2020-11-30T03:46:02.969594Z",
     "iopub.status.idle": "2020-11-30T03:46:02.977710Z",
     "shell.execute_reply": "2020-11-30T03:46:02.976868Z"
    },
    "papermill": {
     "duration": 0.105403,
     "end_time": "2020-11-30T03:46:02.977845",
     "exception": false,
     "start_time": "2020-11-30T03:46:02.872442",
     "status": "completed"
    },
    "tags": []
   },
   "outputs": [],
   "source": [
    "df.loc[(df['Outcome'] == 0 ) & (df['Glucose'].isnull()), 'Glucose'] = 107\n",
    "df.loc[(df['Outcome'] == 1 ) & (df['Glucose'].isnull()), 'Glucose'] = 140"
   ]
  },
  {
   "cell_type": "markdown",
   "metadata": {
    "papermill": {
     "duration": 0.088266,
     "end_time": "2020-11-30T03:46:03.155604",
     "exception": false,
     "start_time": "2020-11-30T03:46:03.067338",
     "status": "completed"
    },
    "tags": []
   },
   "source": [
    "__Blood Pressure__"
   ]
  },
  {
   "cell_type": "code",
   "execution_count": 161,
   "metadata": {
    "execution": {
     "iopub.execute_input": "2020-11-30T03:46:03.340289Z",
     "iopub.status.busy": "2020-11-30T03:46:03.337624Z",
     "iopub.status.idle": "2020-11-30T03:46:03.345923Z",
     "shell.execute_reply": "2020-11-30T03:46:03.345169Z"
    },
    "papermill": {
     "duration": 0.101647,
     "end_time": "2020-11-30T03:46:03.346087",
     "exception": false,
     "start_time": "2020-11-30T03:46:03.244440",
     "status": "completed"
    },
    "tags": []
   },
   "outputs": [
    {
     "data": {
      "text/plain": [
       "Outcome\n",
       "0   70.000\n",
       "1   74.500\n",
       "Name: BloodPressure, dtype: float64"
      ]
     },
     "execution_count": 161,
     "metadata": {},
     "output_type": "execute_result"
    }
   ],
   "source": [
    "df.groupby(\"Outcome\")[\"BloodPressure\"].median()\n"
   ]
  },
  {
   "cell_type": "code",
   "execution_count": 162,
   "metadata": {
    "execution": {
     "iopub.execute_input": "2020-11-30T03:46:03.538973Z",
     "iopub.status.busy": "2020-11-30T03:46:03.537824Z",
     "iopub.status.idle": "2020-11-30T03:46:03.541605Z",
     "shell.execute_reply": "2020-11-30T03:46:03.540826Z"
    },
    "papermill": {
     "duration": 0.103442,
     "end_time": "2020-11-30T03:46:03.541737",
     "exception": false,
     "start_time": "2020-11-30T03:46:03.438295",
     "status": "completed"
    },
    "tags": []
   },
   "outputs": [],
   "source": [
    "df.loc[(df['Outcome'] == 0 ) & (df['BloodPressure'].isnull()), 'BloodPressure'] = 70\n",
    "df.loc[(df['Outcome'] == 1 ) & (df['BloodPressure'].isnull()), 'BloodPressure'] = 74.5"
   ]
  },
  {
   "cell_type": "markdown",
   "metadata": {
    "papermill": {
     "duration": 0.154497,
     "end_time": "2020-11-30T03:46:03.786273",
     "exception": false,
     "start_time": "2020-11-30T03:46:03.631776",
     "status": "completed"
    },
    "tags": []
   },
   "source": [
    "__Skin Thickness__"
   ]
  },
  {
   "cell_type": "code",
   "execution_count": 163,
   "metadata": {
    "execution": {
     "iopub.execute_input": "2020-11-30T03:46:03.980114Z",
     "iopub.status.busy": "2020-11-30T03:46:03.978296Z",
     "iopub.status.idle": "2020-11-30T03:46:03.988515Z",
     "shell.execute_reply": "2020-11-30T03:46:03.987765Z"
    },
    "papermill": {
     "duration": 0.113164,
     "end_time": "2020-11-30T03:46:03.988680",
     "exception": false,
     "start_time": "2020-11-30T03:46:03.875516",
     "status": "completed"
    },
    "tags": []
   },
   "outputs": [
    {
     "data": {
      "text/plain": [
       "Outcome\n",
       "0   27.000\n",
       "1   32.000\n",
       "Name: SkinThickness, dtype: float64"
      ]
     },
     "execution_count": 163,
     "metadata": {},
     "output_type": "execute_result"
    }
   ],
   "source": [
    "df.groupby(\"Outcome\")[\"SkinThickness\"].median()"
   ]
  },
  {
   "cell_type": "code",
   "execution_count": 164,
   "metadata": {
    "execution": {
     "iopub.execute_input": "2020-11-30T03:46:04.189757Z",
     "iopub.status.busy": "2020-11-30T03:46:04.188660Z",
     "iopub.status.idle": "2020-11-30T03:46:04.192947Z",
     "shell.execute_reply": "2020-11-30T03:46:04.192208Z"
    },
    "papermill": {
     "duration": 0.107143,
     "end_time": "2020-11-30T03:46:04.193102",
     "exception": false,
     "start_time": "2020-11-30T03:46:04.085959",
     "status": "completed"
    },
    "tags": []
   },
   "outputs": [],
   "source": [
    "df.loc[(df['Outcome'] == 0 ) & (df['SkinThickness'].isnull()), 'SkinThickness'] = 27\n",
    "df.loc[(df['Outcome'] == 1 ) & (df['SkinThickness'].isnull()), 'SkinThickness'] = 32"
   ]
  },
  {
   "cell_type": "markdown",
   "metadata": {
    "papermill": {
     "duration": 0.090841,
     "end_time": "2020-11-30T03:46:04.379348",
     "exception": false,
     "start_time": "2020-11-30T03:46:04.288507",
     "status": "completed"
    },
    "tags": []
   },
   "source": [
    "__Insulin__"
   ]
  },
  {
   "cell_type": "code",
   "execution_count": 165,
   "metadata": {
    "execution": {
     "iopub.execute_input": "2020-11-30T03:46:04.567655Z",
     "iopub.status.busy": "2020-11-30T03:46:04.566666Z",
     "iopub.status.idle": "2020-11-30T03:46:04.571659Z",
     "shell.execute_reply": "2020-11-30T03:46:04.570857Z"
    },
    "papermill": {
     "duration": 0.101753,
     "end_time": "2020-11-30T03:46:04.571792",
     "exception": false,
     "start_time": "2020-11-30T03:46:04.470039",
     "status": "completed"
    },
    "tags": []
   },
   "outputs": [
    {
     "data": {
      "text/plain": [
       "Outcome\n",
       "0   102.500\n",
       "1   169.500\n",
       "Name: Insulin, dtype: float64"
      ]
     },
     "execution_count": 165,
     "metadata": {},
     "output_type": "execute_result"
    }
   ],
   "source": [
    "df.groupby(\"Outcome\")[\"Insulin\"].median()"
   ]
  },
  {
   "cell_type": "code",
   "execution_count": 166,
   "metadata": {
    "execution": {
     "iopub.execute_input": "2020-11-30T03:46:04.772404Z",
     "iopub.status.busy": "2020-11-30T03:46:04.771259Z",
     "iopub.status.idle": "2020-11-30T03:46:04.774883Z",
     "shell.execute_reply": "2020-11-30T03:46:04.774099Z"
    },
    "papermill": {
     "duration": 0.108659,
     "end_time": "2020-11-30T03:46:04.775014",
     "exception": false,
     "start_time": "2020-11-30T03:46:04.666355",
     "status": "completed"
    },
    "tags": []
   },
   "outputs": [],
   "source": [
    "df.loc[(df['Outcome'] == 0 ) & (df['Insulin'].isnull()), 'Insulin'] = 102.500\n",
    "df.loc[(df['Outcome'] == 1 ) & (df['Insulin'].isnull()), 'Insulin'] = 169.500"
   ]
  },
  {
   "cell_type": "markdown",
   "metadata": {
    "papermill": {
     "duration": 0.088275,
     "end_time": "2020-11-30T03:46:04.954381",
     "exception": false,
     "start_time": "2020-11-30T03:46:04.866106",
     "status": "completed"
    },
    "tags": []
   },
   "source": [
    "__BMI__"
   ]
  },
  {
   "cell_type": "code",
   "execution_count": 167,
   "metadata": {
    "execution": {
     "iopub.execute_input": "2020-11-30T03:46:05.140082Z",
     "iopub.status.busy": "2020-11-30T03:46:05.139190Z",
     "iopub.status.idle": "2020-11-30T03:46:05.143210Z",
     "shell.execute_reply": "2020-11-30T03:46:05.143743Z"
    },
    "papermill": {
     "duration": 0.100866,
     "end_time": "2020-11-30T03:46:05.143915",
     "exception": false,
     "start_time": "2020-11-30T03:46:05.043049",
     "status": "completed"
    },
    "tags": []
   },
   "outputs": [
    {
     "data": {
      "text/plain": [
       "Outcome\n",
       "0   30.100\n",
       "1   34.300\n",
       "Name: BMI, dtype: float64"
      ]
     },
     "execution_count": 167,
     "metadata": {},
     "output_type": "execute_result"
    }
   ],
   "source": [
    "df.groupby(\"Outcome\")[\"BMI\"].median()"
   ]
  },
  {
   "cell_type": "code",
   "execution_count": 168,
   "metadata": {
    "execution": {
     "iopub.execute_input": "2020-11-30T03:46:05.333131Z",
     "iopub.status.busy": "2020-11-30T03:46:05.332306Z",
     "iopub.status.idle": "2020-11-30T03:46:05.336369Z",
     "shell.execute_reply": "2020-11-30T03:46:05.335532Z"
    },
    "papermill": {
     "duration": 0.104081,
     "end_time": "2020-11-30T03:46:05.336513",
     "exception": false,
     "start_time": "2020-11-30T03:46:05.232432",
     "status": "completed"
    },
    "tags": []
   },
   "outputs": [],
   "source": [
    "df.loc[(df['Outcome'] == 0 ) & (df['BMI'].isnull()), 'BMI'] = 30.100\n",
    "df.loc[(df['Outcome'] == 1 ) & (df['BMI'].isnull()), 'BMI'] = 34.300"
   ]
  },
  {
   "cell_type": "code",
   "execution_count": 169,
   "metadata": {
    "execution": {
     "iopub.execute_input": "2020-11-30T03:46:05.522695Z",
     "iopub.status.busy": "2020-11-30T03:46:05.521770Z",
     "iopub.status.idle": "2020-11-30T03:46:05.526459Z",
     "shell.execute_reply": "2020-11-30T03:46:05.525669Z"
    },
    "papermill": {
     "duration": 0.101417,
     "end_time": "2020-11-30T03:46:05.526590",
     "exception": false,
     "start_time": "2020-11-30T03:46:05.425173",
     "status": "completed"
    },
    "tags": []
   },
   "outputs": [
    {
     "data": {
      "text/plain": [
       "Pregnancies                 0\n",
       "Glucose                     0\n",
       "BloodPressure               0\n",
       "SkinThickness               0\n",
       "Insulin                     0\n",
       "BMI                         0\n",
       "DiabetesPedigreeFunction    0\n",
       "Age                         0\n",
       "Outcome                     0\n",
       "dtype: int64"
      ]
     },
     "execution_count": 169,
     "metadata": {},
     "output_type": "execute_result"
    }
   ],
   "source": [
    "df.isnull().sum()"
   ]
  },
  {
   "cell_type": "code",
   "execution_count": 170,
   "metadata": {},
   "outputs": [
    {
     "data": {
      "text/html": [
       "<div>\n",
       "<style scoped>\n",
       "    .dataframe tbody tr th:only-of-type {\n",
       "        vertical-align: middle;\n",
       "    }\n",
       "\n",
       "    .dataframe tbody tr th {\n",
       "        vertical-align: top;\n",
       "    }\n",
       "\n",
       "    .dataframe thead th {\n",
       "        text-align: right;\n",
       "    }\n",
       "</style>\n",
       "<table border=\"1\" class=\"dataframe\">\n",
       "  <thead>\n",
       "    <tr style=\"text-align: right;\">\n",
       "      <th></th>\n",
       "      <th>Pregnancies</th>\n",
       "      <th>Glucose</th>\n",
       "      <th>BloodPressure</th>\n",
       "      <th>SkinThickness</th>\n",
       "      <th>Insulin</th>\n",
       "      <th>BMI</th>\n",
       "      <th>DiabetesPedigreeFunction</th>\n",
       "      <th>Age</th>\n",
       "      <th>Outcome</th>\n",
       "    </tr>\n",
       "  </thead>\n",
       "  <tbody>\n",
       "    <tr>\n",
       "      <th>0</th>\n",
       "      <td>6</td>\n",
       "      <td>148.000</td>\n",
       "      <td>72.000</td>\n",
       "      <td>35.000</td>\n",
       "      <td>169.500</td>\n",
       "      <td>33.600</td>\n",
       "      <td>0.627</td>\n",
       "      <td>50</td>\n",
       "      <td>1</td>\n",
       "    </tr>\n",
       "    <tr>\n",
       "      <th>1</th>\n",
       "      <td>1</td>\n",
       "      <td>85.000</td>\n",
       "      <td>66.000</td>\n",
       "      <td>29.000</td>\n",
       "      <td>102.500</td>\n",
       "      <td>26.600</td>\n",
       "      <td>0.351</td>\n",
       "      <td>31</td>\n",
       "      <td>0</td>\n",
       "    </tr>\n",
       "    <tr>\n",
       "      <th>2</th>\n",
       "      <td>8</td>\n",
       "      <td>183.000</td>\n",
       "      <td>64.000</td>\n",
       "      <td>32.000</td>\n",
       "      <td>169.500</td>\n",
       "      <td>23.300</td>\n",
       "      <td>0.672</td>\n",
       "      <td>32</td>\n",
       "      <td>1</td>\n",
       "    </tr>\n",
       "    <tr>\n",
       "      <th>3</th>\n",
       "      <td>1</td>\n",
       "      <td>89.000</td>\n",
       "      <td>66.000</td>\n",
       "      <td>23.000</td>\n",
       "      <td>94.000</td>\n",
       "      <td>28.100</td>\n",
       "      <td>0.167</td>\n",
       "      <td>21</td>\n",
       "      <td>0</td>\n",
       "    </tr>\n",
       "    <tr>\n",
       "      <th>4</th>\n",
       "      <td>0</td>\n",
       "      <td>137.000</td>\n",
       "      <td>40.000</td>\n",
       "      <td>35.000</td>\n",
       "      <td>168.000</td>\n",
       "      <td>43.100</td>\n",
       "      <td>2.288</td>\n",
       "      <td>33</td>\n",
       "      <td>1</td>\n",
       "    </tr>\n",
       "    <tr>\n",
       "      <th>...</th>\n",
       "      <td>...</td>\n",
       "      <td>...</td>\n",
       "      <td>...</td>\n",
       "      <td>...</td>\n",
       "      <td>...</td>\n",
       "      <td>...</td>\n",
       "      <td>...</td>\n",
       "      <td>...</td>\n",
       "      <td>...</td>\n",
       "    </tr>\n",
       "    <tr>\n",
       "      <th>763</th>\n",
       "      <td>10</td>\n",
       "      <td>101.000</td>\n",
       "      <td>76.000</td>\n",
       "      <td>48.000</td>\n",
       "      <td>180.000</td>\n",
       "      <td>32.900</td>\n",
       "      <td>0.171</td>\n",
       "      <td>63</td>\n",
       "      <td>0</td>\n",
       "    </tr>\n",
       "    <tr>\n",
       "      <th>764</th>\n",
       "      <td>2</td>\n",
       "      <td>122.000</td>\n",
       "      <td>70.000</td>\n",
       "      <td>27.000</td>\n",
       "      <td>102.500</td>\n",
       "      <td>36.800</td>\n",
       "      <td>0.340</td>\n",
       "      <td>27</td>\n",
       "      <td>0</td>\n",
       "    </tr>\n",
       "    <tr>\n",
       "      <th>765</th>\n",
       "      <td>5</td>\n",
       "      <td>121.000</td>\n",
       "      <td>72.000</td>\n",
       "      <td>23.000</td>\n",
       "      <td>112.000</td>\n",
       "      <td>26.200</td>\n",
       "      <td>0.245</td>\n",
       "      <td>30</td>\n",
       "      <td>0</td>\n",
       "    </tr>\n",
       "    <tr>\n",
       "      <th>766</th>\n",
       "      <td>1</td>\n",
       "      <td>126.000</td>\n",
       "      <td>60.000</td>\n",
       "      <td>32.000</td>\n",
       "      <td>169.500</td>\n",
       "      <td>30.100</td>\n",
       "      <td>0.349</td>\n",
       "      <td>47</td>\n",
       "      <td>1</td>\n",
       "    </tr>\n",
       "    <tr>\n",
       "      <th>767</th>\n",
       "      <td>1</td>\n",
       "      <td>93.000</td>\n",
       "      <td>70.000</td>\n",
       "      <td>31.000</td>\n",
       "      <td>102.500</td>\n",
       "      <td>30.400</td>\n",
       "      <td>0.315</td>\n",
       "      <td>23</td>\n",
       "      <td>0</td>\n",
       "    </tr>\n",
       "  </tbody>\n",
       "</table>\n",
       "<p>768 rows × 9 columns</p>\n",
       "</div>"
      ],
      "text/plain": [
       "     Pregnancies  Glucose  BloodPressure  SkinThickness  Insulin    BMI  \\\n",
       "0              6  148.000         72.000         35.000  169.500 33.600   \n",
       "1              1   85.000         66.000         29.000  102.500 26.600   \n",
       "2              8  183.000         64.000         32.000  169.500 23.300   \n",
       "3              1   89.000         66.000         23.000   94.000 28.100   \n",
       "4              0  137.000         40.000         35.000  168.000 43.100   \n",
       "..           ...      ...            ...            ...      ...    ...   \n",
       "763           10  101.000         76.000         48.000  180.000 32.900   \n",
       "764            2  122.000         70.000         27.000  102.500 36.800   \n",
       "765            5  121.000         72.000         23.000  112.000 26.200   \n",
       "766            1  126.000         60.000         32.000  169.500 30.100   \n",
       "767            1   93.000         70.000         31.000  102.500 30.400   \n",
       "\n",
       "     DiabetesPedigreeFunction  Age  Outcome  \n",
       "0                       0.627   50        1  \n",
       "1                       0.351   31        0  \n",
       "2                       0.672   32        1  \n",
       "3                       0.167   21        0  \n",
       "4                       2.288   33        1  \n",
       "..                        ...  ...      ...  \n",
       "763                     0.171   63        0  \n",
       "764                     0.340   27        0  \n",
       "765                     0.245   30        0  \n",
       "766                     0.349   47        1  \n",
       "767                     0.315   23        0  \n",
       "\n",
       "[768 rows x 9 columns]"
      ]
     },
     "execution_count": 170,
     "metadata": {},
     "output_type": "execute_result"
    }
   ],
   "source": [
    "df"
   ]
  },
  {
   "cell_type": "markdown",
   "metadata": {
    "papermill": {
     "duration": 0.090389,
     "end_time": "2020-11-30T03:46:05.706238",
     "exception": false,
     "start_time": "2020-11-30T03:46:05.615849",
     "status": "completed"
    },
    "tags": []
   },
   "source": [
    "#### Outlier Treatment"
   ]
  },
  {
   "cell_type": "code",
   "execution_count": 171,
   "metadata": {
    "execution": {
     "iopub.execute_input": "2020-11-30T03:46:05.891745Z",
     "iopub.status.busy": "2020-11-30T03:46:05.890677Z",
     "iopub.status.idle": "2020-11-30T03:46:05.894073Z",
     "shell.execute_reply": "2020-11-30T03:46:05.893336Z"
    },
    "papermill": {
     "duration": 0.09892,
     "end_time": "2020-11-30T03:46:05.894200",
     "exception": false,
     "start_time": "2020-11-30T03:46:05.795280",
     "status": "completed"
    },
    "tags": []
   },
   "outputs": [],
   "source": [
    "# Determine Outlier Thresholds of each variable\n",
    "def outlier_thresholds(dataframe, variable):\n",
    "    quartile1 = dataframe[variable].quantile(0.25)\n",
    "    quartile3 = dataframe[variable].quantile(0.75)\n",
    "    interquantile_range = quartile3 - quartile1\n",
    "    up_limit = quartile3 + 1.5 * interquantile_range\n",
    "    low_limit = quartile1 - 1.5 * interquantile_range\n",
    "    return low_limit, up_limit"
   ]
  },
  {
   "cell_type": "code",
   "execution_count": 172,
   "metadata": {
    "execution": {
     "iopub.execute_input": "2020-11-30T03:46:06.087600Z",
     "iopub.status.busy": "2020-11-30T03:46:06.086326Z",
     "iopub.status.idle": "2020-11-30T03:46:06.121341Z",
     "shell.execute_reply": "2020-11-30T03:46:06.120643Z"
    },
    "papermill": {
     "duration": 0.137872,
     "end_time": "2020-11-30T03:46:06.121474",
     "exception": false,
     "start_time": "2020-11-30T03:46:05.983602",
     "status": "completed"
    },
    "tags": []
   },
   "outputs": [
    {
     "name": "stdout",
     "output_type": "stream",
     "text": [
      "Pregnancies yes\n",
      "BloodPressure yes\n",
      "SkinThickness yes\n",
      "Insulin yes\n",
      "BMI yes\n",
      "DiabetesPedigreeFunction yes\n",
      "Age yes\n"
     ]
    }
   ],
   "source": [
    "# Function prints the variables which have values lower than low_limit (Determined by outlier_thresholds function) and higher than high_limit (Determined by outlier_thresholds function).\n",
    "def has_outliers(dataframe, variable):\n",
    "    low_limit, up_limit = outlier_thresholds(dataframe, variable)\n",
    "    if dataframe[(dataframe[variable] < low_limit) | (dataframe[variable] > up_limit)].any(axis=None):\n",
    "        print(variable, \"yes\")\n",
    "\n",
    "for col in cols:\n",
    "    has_outliers(df, col)\n"
   ]
  },
  {
   "cell_type": "code",
   "execution_count": 173,
   "metadata": {
    "execution": {
     "iopub.execute_input": "2020-11-30T03:46:06.495720Z",
     "iopub.status.busy": "2020-11-30T03:46:06.494711Z",
     "iopub.status.idle": "2020-11-30T03:46:06.506094Z",
     "shell.execute_reply": "2020-11-30T03:46:06.505456Z"
    },
    "papermill": {
     "duration": 0.109226,
     "end_time": "2020-11-30T03:46:06.506240",
     "exception": false,
     "start_time": "2020-11-30T03:46:06.397014",
     "status": "completed"
    },
    "tags": []
   },
   "outputs": [],
   "source": [
    "# Set outliers to low_limit and up_limit respectively\n",
    "def replace_with_thresholds(dataframe, variable):\n",
    "    low_limit, up_limit = outlier_thresholds(dataframe, variable)\n",
    "    dataframe.loc[(dataframe[variable] < low_limit), variable] = low_limit\n",
    "    dataframe.loc[(dataframe[variable] > up_limit), variable] = up_limit\n",
    "\n",
    "replace_with_thresholds(df, 'BloodPressure')\n",
    "replace_with_thresholds(df, 'DiabetesPedigreeFunction')\n",
    "replace_with_thresholds(df, 'Insulin')\n",
    "replace_with_thresholds(df, 'SkinThickness')"
   ]
  },
  {
   "cell_type": "markdown",
   "metadata": {
    "papermill": {
     "duration": 0.08933,
     "end_time": "2020-11-30T03:46:07.096684",
     "exception": false,
     "start_time": "2020-11-30T03:46:07.007354",
     "status": "completed"
    },
    "tags": []
   },
   "source": [
    "## 3. Feature Engineering"
   ]
  },
  {
   "cell_type": "markdown",
   "metadata": {
    "papermill": {
     "duration": 0.092508,
     "end_time": "2020-11-30T03:46:07.280365",
     "exception": false,
     "start_time": "2020-11-30T03:46:07.187857",
     "status": "completed"
    },
    "tags": []
   },
   "source": [
    "__New Body Fat__"
   ]
  },
  {
   "cell_type": "markdown",
   "metadata": {},
   "source": [
    "https://www.cambridge.org/core/services/aop-cambridge-core/content/view/DAC8BA25856FCEB30E22F60E0AF80D07/S0007114574000614a.pdf/body_fat_assessed_from_total_body_density_and_its_estimation_from_skinfold_thickness_measurements_on_481_men_and_women_aged_from_16_to_72_years.pdf"
   ]
  },
  {
   "cell_type": "code",
   "execution_count": 174,
   "metadata": {
    "execution": {
     "iopub.execute_input": "2020-11-30T03:46:07.649313Z",
     "iopub.status.busy": "2020-11-30T03:46:07.648179Z",
     "iopub.status.idle": "2020-11-30T03:46:07.651894Z",
     "shell.execute_reply": "2020-11-30T03:46:07.651232Z"
    },
    "papermill": {
     "duration": 0.101876,
     "end_time": "2020-11-30T03:46:07.652069",
     "exception": false,
     "start_time": "2020-11-30T03:46:07.550193",
     "status": "completed"
    },
    "tags": []
   },
   "outputs": [],
   "source": [
    "df[\"New_SkinThickness\"] = df[\"SkinThickness\"] * 4"
   ]
  },
  {
   "cell_type": "code",
   "execution_count": 175,
   "metadata": {
    "execution": {
     "iopub.execute_input": "2020-11-30T03:46:07.875678Z",
     "iopub.status.busy": "2020-11-30T03:46:07.874734Z",
     "iopub.status.idle": "2020-11-30T03:46:07.906465Z",
     "shell.execute_reply": "2020-11-30T03:46:07.907059Z"
    },
    "papermill": {
     "duration": 0.157518,
     "end_time": "2020-11-30T03:46:07.907233",
     "exception": false,
     "start_time": "2020-11-30T03:46:07.749715",
     "status": "completed"
    },
    "tags": []
   },
   "outputs": [],
   "source": [
    "# Body fat values are assigned according to skin thickness and age.\n",
    "\n",
    "df.loc[(df['Age'] >= 21 ) & (df['Age'] <= 29) & (df[\"New_SkinThickness\"] < 34), 'New_Body_Fat'] = \"Underfat\"\n",
    "df.loc[(df['Age'] >= 30 ) & (df['Age'] <= 39) & (df[\"New_SkinThickness\"] < 29), 'New_Body_Fat'] = \"Underfat\"\n",
    "df.loc[(df['Age'] >= 40 ) & (df['Age'] <= 49) & (df[\"New_SkinThickness\"] < 23), 'New_Body_Fat'] = \"Underfat\"\n",
    "df.loc[(df['Age'] >= 50 ) & (df[\"New_SkinThickness\"] < 20), 'New_Body_Fat'] = \"Underfat\"\n",
    "\n",
    "df.loc[(df['Age'] >= 21 ) & (df['Age'] <= 29) & (df[\"New_SkinThickness\"] >= 34) & (df[\"New_SkinThickness\"] <= 79), 'New_Body_Fat'] = \"Healthy\"\n",
    "df.loc[(df['Age'] >= 30 ) & (df['Age'] <= 39) & (df[\"New_SkinThickness\"] >= 29) & (df[\"New_SkinThickness\"] <= 73), 'New_Body_Fat'] = \"Healthy\"\n",
    "df.loc[(df['Age'] >= 40 ) & (df['Age'] <= 49) & (df[\"New_SkinThickness\"] >= 23) & (df[\"New_SkinThickness\"] <= 59), 'New_Body_Fat'] = \"Healthy\"\n",
    "df.loc[(df['Age'] >= 50 ) & (df[\"New_SkinThickness\"] >= 20) & (df[\"New_SkinThickness\"] <= 49), 'New_Body_Fat'] = \"Healthy\"\n",
    "\n",
    "df.loc[(df['Age'] >= 21 ) & (df['Age'] <= 29) &( df[\"New_SkinThickness\"] > 79) & (df[\"New_SkinThickness\"] <= 120), 'New_Body_Fat'] = \"OverFat\"\n",
    "df.loc[(df['Age'] >= 30) & (df['Age'] <= 39) & (df[\"New_SkinThickness\"] > 73) & (df[\"New_SkinThickness\"] <= 115), 'New_Body_Fat'] = \"OverFat\"\n",
    "df.loc[(df['Age'] >= 40 ) & (df['Age'] <= 49) & (df[\"New_SkinThickness\"] > 59) & (df[\"New_SkinThickness\"] <= 95), 'New_Body_Fat'] = \"OverFat\"\n",
    "df.loc[(df['Age'] >= 50 ) & (df[\"New_SkinThickness\"] > 49) & (df[\"New_SkinThickness\"] <= 77), 'New_Body_Fat'] = \"OverFat\"\n",
    "\n",
    "df.loc[(df['Age'] >= 21 ) & (df['Age'] <= 29) & (df[\"New_SkinThickness\"] > 120), 'New_Body_Fat'] = \"Obese\"\n",
    "df.loc[(df['Age'] >= 30 ) & (df['Age'] <= 39) & (df[\"New_SkinThickness\"] > 115) , 'New_Body_Fat'] = \"Obese\"\n",
    "df.loc[(df['Age'] >= 40 ) & (df['Age'] <= 49) & (df[\"New_SkinThickness\"] > 95) , 'New_Body_Fat'] = \"Obese\"\n",
    "df.loc[(df['Age'] >= 50 ) & (df[\"New_SkinThickness\"] > 77) , 'New_Body_Fat'] = \"Obese\"\n"
   ]
  },
  {
   "cell_type": "code",
   "execution_count": 176,
   "metadata": {
    "execution": {
     "iopub.execute_input": "2020-11-30T03:46:08.105815Z",
     "iopub.status.busy": "2020-11-30T03:46:08.104816Z",
     "iopub.status.idle": "2020-11-30T03:46:08.108370Z",
     "shell.execute_reply": "2020-11-30T03:46:08.107583Z"
    },
    "papermill": {
     "duration": 0.105744,
     "end_time": "2020-11-30T03:46:08.108503",
     "exception": false,
     "start_time": "2020-11-30T03:46:08.002759",
     "status": "completed"
    },
    "tags": []
   },
   "outputs": [],
   "source": [
    "df.drop([\"SkinThickness\",\"New_SkinThickness\"], axis =1, inplace=True)"
   ]
  },
  {
   "cell_type": "markdown",
   "metadata": {
    "papermill": {
     "duration": 0.094445,
     "end_time": "2020-11-30T03:46:08.298299",
     "exception": false,
     "start_time": "2020-11-30T03:46:08.203854",
     "status": "completed"
    },
    "tags": []
   },
   "source": [
    "__Glucose__"
   ]
  },
  {
   "cell_type": "code",
   "execution_count": 177,
   "metadata": {
    "execution": {
     "iopub.execute_input": "2020-11-30T03:46:08.498515Z",
     "iopub.status.busy": "2020-11-30T03:46:08.495409Z",
     "iopub.status.idle": "2020-11-30T03:46:08.501802Z",
     "shell.execute_reply": "2020-11-30T03:46:08.502400Z"
    },
    "papermill": {
     "duration": 0.108828,
     "end_time": "2020-11-30T03:46:08.502577",
     "exception": false,
     "start_time": "2020-11-30T03:46:08.393749",
     "status": "completed"
    },
    "tags": []
   },
   "outputs": [],
   "source": [
    "# Glucose level under 140 are assigned as No_Risk and above 140 are assigned as Prediabetes.\n",
    "df.loc[(df[\"Glucose\"] <= 140), \"New_Glucose\"] = \"No_Risk\"\n",
    "df.loc[(df[\"Glucose\"] > 140), \"New_Glucose\"] = \"Prediabetes\""
   ]
  },
  {
   "cell_type": "markdown",
   "metadata": {
    "papermill": {
     "duration": 0.093203,
     "end_time": "2020-11-30T03:46:08.690062",
     "exception": false,
     "start_time": "2020-11-30T03:46:08.596859",
     "status": "completed"
    },
    "tags": []
   },
   "source": [
    "## 4. Encoding"
   ]
  },
  {
   "cell_type": "code",
   "execution_count": 178,
   "metadata": {
    "execution": {
     "iopub.execute_input": "2020-11-30T03:46:08.879431Z",
     "iopub.status.busy": "2020-11-30T03:46:08.878616Z",
     "iopub.status.idle": "2020-11-30T03:46:08.881823Z",
     "shell.execute_reply": "2020-11-30T03:46:08.881044Z"
    },
    "papermill": {
     "duration": 0.100054,
     "end_time": "2020-11-30T03:46:08.881953",
     "exception": false,
     "start_time": "2020-11-30T03:46:08.781899",
     "status": "completed"
    },
    "tags": []
   },
   "outputs": [],
   "source": [
    "# Categorical variables are selected\n",
    "cat_cols = [col for col in df.columns if df[col].dtypes == 'O']"
   ]
  },
  {
   "cell_type": "code",
   "execution_count": 179,
   "metadata": {
    "execution": {
     "iopub.execute_input": "2020-11-30T03:46:09.084004Z",
     "iopub.status.busy": "2020-11-30T03:46:09.083167Z",
     "iopub.status.idle": "2020-11-30T03:46:09.090781Z",
     "shell.execute_reply": "2020-11-30T03:46:09.090063Z"
    },
    "papermill": {
     "duration": 0.117076,
     "end_time": "2020-11-30T03:46:09.090908",
     "exception": false,
     "start_time": "2020-11-30T03:46:08.973832",
     "status": "completed"
    },
    "tags": []
   },
   "outputs": [],
   "source": [
    "# Categorical variables are encoded\n",
    "def one_hot_encoder(dataframe,categorical_cols,nan_as_category=False):\n",
    "    original_columns = list(dataframe.columns)\n",
    "    dataframe = pd.get_dummies(dataframe,columns = categorical_cols,dummy_na = nan_as_category,drop_first = True)\n",
    "    new_columns = [c for c in dataframe.columns if c not in original_columns]\n",
    "    return dataframe,new_columns\n",
    "\n",
    "df,new_cols_ohe = one_hot_encoder(df,cat_cols)"
   ]
  },
  {
   "cell_type": "code",
   "execution_count": 180,
   "metadata": {},
   "outputs": [
    {
     "data": {
      "text/html": [
       "<div>\n",
       "<style scoped>\n",
       "    .dataframe tbody tr th:only-of-type {\n",
       "        vertical-align: middle;\n",
       "    }\n",
       "\n",
       "    .dataframe tbody tr th {\n",
       "        vertical-align: top;\n",
       "    }\n",
       "\n",
       "    .dataframe thead th {\n",
       "        text-align: right;\n",
       "    }\n",
       "</style>\n",
       "<table border=\"1\" class=\"dataframe\">\n",
       "  <thead>\n",
       "    <tr style=\"text-align: right;\">\n",
       "      <th></th>\n",
       "      <th>Pregnancies</th>\n",
       "      <th>Glucose</th>\n",
       "      <th>BloodPressure</th>\n",
       "      <th>Insulin</th>\n",
       "      <th>BMI</th>\n",
       "      <th>DiabetesPedigreeFunction</th>\n",
       "      <th>Age</th>\n",
       "      <th>Outcome</th>\n",
       "      <th>New_Body_Fat_Obese</th>\n",
       "      <th>New_Body_Fat_OverFat</th>\n",
       "      <th>New_Glucose_Prediabetes</th>\n",
       "    </tr>\n",
       "  </thead>\n",
       "  <tbody>\n",
       "    <tr>\n",
       "      <th>0</th>\n",
       "      <td>6</td>\n",
       "      <td>148.000</td>\n",
       "      <td>72.000</td>\n",
       "      <td>169.500</td>\n",
       "      <td>33.600</td>\n",
       "      <td>0.627</td>\n",
       "      <td>50</td>\n",
       "      <td>1</td>\n",
       "      <td>1</td>\n",
       "      <td>0</td>\n",
       "      <td>1</td>\n",
       "    </tr>\n",
       "    <tr>\n",
       "      <th>1</th>\n",
       "      <td>1</td>\n",
       "      <td>85.000</td>\n",
       "      <td>66.000</td>\n",
       "      <td>102.500</td>\n",
       "      <td>26.600</td>\n",
       "      <td>0.351</td>\n",
       "      <td>31</td>\n",
       "      <td>0</td>\n",
       "      <td>1</td>\n",
       "      <td>0</td>\n",
       "      <td>0</td>\n",
       "    </tr>\n",
       "    <tr>\n",
       "      <th>2</th>\n",
       "      <td>8</td>\n",
       "      <td>183.000</td>\n",
       "      <td>64.000</td>\n",
       "      <td>169.500</td>\n",
       "      <td>23.300</td>\n",
       "      <td>0.672</td>\n",
       "      <td>32</td>\n",
       "      <td>1</td>\n",
       "      <td>1</td>\n",
       "      <td>0</td>\n",
       "      <td>1</td>\n",
       "    </tr>\n",
       "    <tr>\n",
       "      <th>3</th>\n",
       "      <td>1</td>\n",
       "      <td>89.000</td>\n",
       "      <td>66.000</td>\n",
       "      <td>94.000</td>\n",
       "      <td>28.100</td>\n",
       "      <td>0.167</td>\n",
       "      <td>21</td>\n",
       "      <td>0</td>\n",
       "      <td>0</td>\n",
       "      <td>1</td>\n",
       "      <td>0</td>\n",
       "    </tr>\n",
       "    <tr>\n",
       "      <th>4</th>\n",
       "      <td>0</td>\n",
       "      <td>137.000</td>\n",
       "      <td>40.000</td>\n",
       "      <td>168.000</td>\n",
       "      <td>43.100</td>\n",
       "      <td>1.200</td>\n",
       "      <td>33</td>\n",
       "      <td>1</td>\n",
       "      <td>1</td>\n",
       "      <td>0</td>\n",
       "      <td>0</td>\n",
       "    </tr>\n",
       "  </tbody>\n",
       "</table>\n",
       "</div>"
      ],
      "text/plain": [
       "   Pregnancies  Glucose  BloodPressure  Insulin    BMI  \\\n",
       "0            6  148.000         72.000  169.500 33.600   \n",
       "1            1   85.000         66.000  102.500 26.600   \n",
       "2            8  183.000         64.000  169.500 23.300   \n",
       "3            1   89.000         66.000   94.000 28.100   \n",
       "4            0  137.000         40.000  168.000 43.100   \n",
       "\n",
       "   DiabetesPedigreeFunction  Age  Outcome  New_Body_Fat_Obese  \\\n",
       "0                     0.627   50        1                   1   \n",
       "1                     0.351   31        0                   1   \n",
       "2                     0.672   32        1                   1   \n",
       "3                     0.167   21        0                   0   \n",
       "4                     1.200   33        1                   1   \n",
       "\n",
       "   New_Body_Fat_OverFat  New_Glucose_Prediabetes  \n",
       "0                     0                        1  \n",
       "1                     0                        0  \n",
       "2                     0                        1  \n",
       "3                     1                        0  \n",
       "4                     0                        0  "
      ]
     },
     "execution_count": 180,
     "metadata": {},
     "output_type": "execute_result"
    }
   ],
   "source": [
    "df.head()"
   ]
  },
  {
   "cell_type": "markdown",
   "metadata": {
    "papermill": {
     "duration": 0.096569,
     "end_time": "2020-11-30T03:46:09.284983",
     "exception": false,
     "start_time": "2020-11-30T03:46:09.188414",
     "status": "completed"
    },
    "tags": []
   },
   "source": [
    "## 5. Modelling"
   ]
  },
  {
   "cell_type": "code",
   "execution_count": 181,
   "metadata": {
    "execution": {
     "iopub.execute_input": "2020-11-30T03:46:09.484711Z",
     "iopub.status.busy": "2020-11-30T03:46:09.483591Z",
     "iopub.status.idle": "2020-11-30T03:46:09.486549Z",
     "shell.execute_reply": "2020-11-30T03:46:09.487311Z"
    },
    "papermill": {
     "duration": 0.103547,
     "end_time": "2020-11-30T03:46:09.487466",
     "exception": false,
     "start_time": "2020-11-30T03:46:09.383919",
     "status": "completed"
    },
    "tags": []
   },
   "outputs": [
    {
     "name": "stdout",
     "output_type": "stream",
     "text": [
      "RF: (0.844156)\n"
     ]
    }
   ],
   "source": [
    "y = df[\"Outcome\"]\n",
    "X = df.drop([\"Outcome\"], axis=1) \n",
    "X_train, X_test, y_train, y_test = train_test_split(X, y, test_size=0.20, random_state=46) # 80% train, 20% test \n",
    "\n",
    "model = RandomForestClassifier()\n",
    "\n",
    "model.fit(X_train, y_train)\n",
    "y_pred = model.predict(X_test)\n",
    "acc = accuracy_score(y_test, y_pred)\n",
    "print(\"%s: (%f)\" % (\"RF\", acc))"
   ]
  }
 ],
 "metadata": {
  "kernelspec": {
   "display_name": "Python 3",
   "language": "python",
   "name": "python3"
  },
  "language_info": {
   "codemirror_mode": {
    "name": "ipython",
    "version": 3
   },
   "file_extension": ".py",
   "mimetype": "text/x-python",
   "name": "python",
   "nbconvert_exporter": "python",
   "pygments_lexer": "ipython3",
   "version": "3.8.3"
  },
  "papermill": {
   "duration": 37.618004,
   "end_time": "2020-11-30T03:46:25.723834",
   "environment_variables": {},
   "exception": null,
   "input_path": "__notebook__.ipynb",
   "output_path": "__notebook__.ipynb",
   "parameters": {},
   "start_time": "2020-11-30T03:45:48.105830",
   "version": "2.1.0"
  }
 },
 "nbformat": 4,
 "nbformat_minor": 4
}
